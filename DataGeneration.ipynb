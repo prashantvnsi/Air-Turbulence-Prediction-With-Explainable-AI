{
 "cells": [
  {
   "cell_type": "code",
   "execution_count": 1,
   "id": "0641bd77-9bc8-4e3f-ae1f-16859332a5f6",
   "metadata": {
    "execution": {
     "iopub.execute_input": "2025-05-09T07:31:52.590789Z",
     "iopub.status.busy": "2025-05-09T07:31:52.589888Z",
     "iopub.status.idle": "2025-05-09T07:32:06.256922Z",
     "shell.execute_reply": "2025-05-09T07:32:06.254513Z",
     "shell.execute_reply.started": "2025-05-09T07:31:52.590608Z"
    }
   },
   "outputs": [],
   "source": [
    "import numpy as np\n",
    "import torch\n",
    "from giverny.turbulence_dataset import *\n",
    "from giverny.turbulence_toolkit import *"
   ]
  },
  {
   "cell_type": "code",
   "execution_count": null,
   "id": "d6a8f9c1-d739-45ac-8d80-bdf1a8ee71c2",
   "metadata": {
    "execution": {
     "iopub.execute_input": "2025-05-09T07:32:06.263847Z",
     "iopub.status.busy": "2025-05-09T07:32:06.261541Z",
     "iopub.status.idle": "2025-05-09T07:32:06.351312Z",
     "shell.execute_reply": "2025-05-09T07:32:06.349090Z",
     "shell.execute_reply.started": "2025-05-09T07:32:06.263741Z"
    }
   },
   "outputs": [],
   "source": [
    "auth_token = 'your_auth_token_here'  # Replace with your actual authentication token\n",
    "dataset_title = 'sabl2048high'\n",
    "dataset = turb_dataset(dataset_title=dataset_title, output_path='', auth_token=auth_token)"
   ]
  },
  {
   "cell_type": "code",
   "execution_count": 3,
   "id": "15f832fa-2cb3-4c6b-8981-7a67bd17e6ec",
   "metadata": {
    "execution": {
     "iopub.execute_input": "2025-05-09T07:32:12.799740Z",
     "iopub.status.busy": "2025-05-09T07:32:12.798741Z",
     "iopub.status.idle": "2025-05-09T07:32:12.817612Z",
     "shell.execute_reply": "2025-05-09T07:32:12.814381Z",
     "shell.execute_reply.started": "2025-05-09T07:32:12.799675Z"
    }
   },
   "outputs": [
    {
     "name": "stdout",
     "output_type": "stream",
     "text": [
      "{'name': 'JHTDB', 'description': 'The original Johns Hopkins Turbulence Database', 'pickled_metadata_filepath': '/home/idies/workspace/turbulence-ceph/sciserver-turbulence/jhtdb_metadata/jhtdb_pickled', 'variables': [{'code': 'pressure', 'name': 'Pressure', 'description': None, 'component_codes': ['p'], 'cardinality': 1}, {'code': 'temperature', 'name': 'Temperature', 'description': None, 'component_codes': ['θ'], 'cardinality': 1}, {'code': 'soiltemperature', 'name': 'Soil Temperature', 'description': None, 'component_codes': ['θ-soil'], 'cardinality': 1}, {'code': 'sgsenergy', 'name': 'Subgrid-scale Energy', 'description': None, 'component_codes': ['e'], 'cardinality': 1}, {'code': 'sgsviscosity', 'name': 'Subgrid-scale Viscosity', 'description': None, 'component_codes': ['ν'], 'cardinality': 1}, {'code': 'density', 'name': 'Density', 'description': None, 'component_codes': ['ρ'], 'cardinality': 1}, {'code': 'velocity', 'name': 'Velocity', 'description': None, 'component_codes': ['ux', 'uy', 'uz'], 'cardinality': 3}, {'code': 'vectorpotential', 'name': 'Vector Potential', 'description': None, 'component_codes': ['ax', 'ay', 'az'], 'cardinality': 3}, {'code': 'magneticfield', 'name': 'Magnetic Field', 'description': None, 'component_codes': ['bx', 'by', 'bz'], 'cardinality': 3}, {'code': 'force', 'name': 'Force', 'description': None, 'component_codes': ['fx', 'fy', 'fz'], 'cardinality': 3}, {'code': 'position', 'name': 'Position', 'description': None, 'component_codes': ['x', 'y', 'z'], 'cardinality': 3}], 'spatial_operators': [{'code': 'field', 'name': 'Field', 'description': None}, {'code': 'gradient', 'name': 'Gradient', 'description': None}, {'code': 'hessian', 'name': 'Hessian', 'description': None}, {'code': 'laplacian', 'name': 'Laplacian', 'description': None}], 'spatial_methods': [{'code': 'none', 'name': 'none', 'description': None, 'bucketIndices': [0, 1]}, {'code': 'lag4', 'name': 'lag4', 'description': None, 'bucketIndices': [1, 2]}, {'code': 'lag6', 'name': 'lag6', 'description': None, 'bucketIndices': [2, 3]}, {'code': 'lag8', 'name': 'lag8', 'description': None, 'bucketIndices': [3, 4]}, {'code': 'm1q4', 'name': 'm1q4', 'description': None, 'bucketIndices': [1, 2]}, {'code': 'm2q8', 'name': 'm2q8', 'description': None, 'bucketIndices': [3, 4]}, {'code': 'fd4noint', 'name': 'fd4noint', 'description': None, 'bucketIndices': [2, 3]}, {'code': 'fd6noint', 'name': 'fd6noint', 'description': None, 'bucketIndices': [3, 4]}, {'code': 'fd8noint', 'name': 'fd8noint', 'description': None, 'bucketIndices': [4, 5]}, {'code': 'fd4lag4', 'name': 'fd4lag4', 'description': None, 'bucketIndices': [3, 4]}], 'temporal_methods': [{'code': 'none', 'name': 'none', 'description': None}, {'code': 'pchip', 'name': 'pchip', 'description': None}], 'datasets': {'channel': {'code': 'channel', 'name': 'Channel', 'description': None, 'storage': {'filepath': '/home/idies/workspace/turbulence-ceph-staging/sciserver-turbulence/channel/channel.zarr', 'chunks': [64, 64, 64]}, 'simulation': {'tlims': {'lower': '0', 'upper': '25.9935', 'n': 4000, 'isPeriodic': False, 'isDiscrete': False, 'timeIndexShift': {'getcutout': -1, 'getdata': 0}}, 'xlims': {'lower': '0', 'upper': '8pi', 'n': 2048, 'isPeriodic': True, 'spacing': 0.01227184630308513}, 'ylims': {'lower': '-1', 'upper': '1', 'n': 512, 'isPeriodic': False, 'spacing': 'irregular channel dy'}, 'zlims': {'lower': '0', 'upper': '3pi', 'n': 1536, 'isPeriodic': True, 'spacing': 0.006135923151542565}}, 'physicalVariables': [{'code': 'velocity', 'name': 'Velocity', 'isPersistent': True, 'offsets': [{'code': 'velocity', 'grid': [0, 0, 0], 'coordinate': [0, 0, 0]}], 'spatialOperatorMethods': [{'operator': 'field', 'methods': ['none', 'lag4', 'lag6', 'lag8', 'm1q4', 'm2q8']}, {'operator': 'gradient', 'methods': ['m1q4', 'm2q8', 'fd4noint', 'fd6noint', 'fd8noint', 'fd4lag4']}, {'operator': 'hessian', 'methods': ['m2q8', 'fd4noint', 'fd6noint', 'fd8noint', 'fd4lag4']}, {'operator': 'laplacian', 'methods': ['fd4noint', 'fd6noint', 'fd8noint', 'fd4lag4']}], 'temporalMethods': ['none', 'pchip']}, {'code': 'pressure', 'name': 'Pressure', 'isPersistent': True, 'offsets': [{'code': 'pressure', 'grid': [0, 0, 0], 'coordinate': [0, 0, 0]}], 'spatialOperatorMethods': [{'operator': 'field', 'methods': ['none', 'lag4', 'lag6', 'lag8', 'm1q4', 'm2q8']}, {'operator': 'gradient', 'methods': ['m1q4', 'm2q8', 'fd4noint', 'fd6noint', 'fd8noint', 'fd4lag4']}, {'operator': 'hessian', 'methods': ['m2q8', 'fd4noint', 'fd6noint', 'fd8noint', 'fd4lag4']}], 'temporalMethods': ['none', 'pchip']}, {'code': 'position', 'name': 'Position', 'isPersistent': False, 'offsets': [{'code': 'position', 'grid': [0, 0, 0], 'coordinate': [0, 0, 0]}], 'spatialOperatorMethods': [{'operator': 'field', 'methods': ['lag4', 'lag6', 'lag8']}], 'temporalMethods': ['pchip']}]}, 'channel5200': {'code': 'channel5200', 'name': 'Channel 5200', 'description': None, 'storage': {'filepath': '/home/idies/workspace/turbulence-ceph-staging/sciserver-turbulence/channel5200/channel5200.zarr', 'chunks': [64, 64, 64]}, 'simulation': {'tlims': {'lower': '1', 'upper': '11', 'n': 11, 'isPeriodic': False, 'isDiscrete': True, 'timeIndexShift': {'getcutout': -1, 'getdata': -1}}, 'xlims': {'lower': '0', 'upper': '8pi', 'n': 10240, 'isPeriodic': True, 'spacing': 0.002454369260617026}, 'ylims': {'lower': '-1', 'upper': '1', 'n': 1536, 'isPeriodic': False, 'spacing': 'irregular channel5200 dy'}, 'zlims': {'lower': '0', 'upper': '3pi', 'n': 7680, 'isPeriodic': True, 'spacing': 0.001227184630308513}}, 'physicalVariables': [{'code': 'velocity', 'name': 'Velocity', 'isPersistent': True, 'offsets': [{'code': 'velocity', 'grid': [0, 0, 0], 'coordinate': [0, 0, 0]}], 'spatialOperatorMethods': [{'operator': 'field', 'methods': ['none', 'lag4', 'lag6', 'lag8', 'm1q4', 'm2q8']}, {'operator': 'gradient', 'methods': ['m1q4', 'm2q8', 'fd4noint', 'fd6noint', 'fd8noint', 'fd4lag4']}, {'operator': 'hessian', 'methods': ['m2q8', 'fd4noint', 'fd6noint', 'fd8noint', 'fd4lag4']}, {'operator': 'laplacian', 'methods': ['fd4noint', 'fd6noint', 'fd8noint', 'fd4lag4']}], 'temporalMethods': ['none']}, {'code': 'pressure', 'name': 'Pressure', 'isPersistent': True, 'offsets': [{'code': 'pressure', 'grid': [0, 0, 0], 'coordinate': [0, 0, 0]}], 'spatialOperatorMethods': [{'operator': 'field', 'methods': ['none', 'lag4', 'lag6', 'lag8', 'm1q4', 'm2q8']}, {'operator': 'gradient', 'methods': ['m1q4', 'm2q8', 'fd4noint', 'fd6noint', 'fd8noint', 'fd4lag4']}, {'operator': 'hessian', 'methods': ['m2q8', 'fd4noint', 'fd6noint', 'fd8noint', 'fd4lag4']}], 'temporalMethods': ['none']}]}, 'isotropic1024coarse': {'code': 'isotropic1024coarse', 'name': 'Isotropic 1024 Coarse', 'description': None, 'storage': {'filepath': '/home/idies/workspace/turbulence-ceph-staging/sciserver-turbulence/isotropic1024coarse/isotropic1024coarse.zarr', 'chunks': [64, 64, 64]}, 'simulation': {'tlims': {'lower': '0', 'upper': '10.056', 'n': 5024, 'isPeriodic': False, 'isDiscrete': False, 'timeIndexShift': {'getcutout': -1, 'getdata': 0}}, 'xlims': {'lower': '0', 'upper': '2pi', 'n': 1024, 'isPeriodic': True, 'spacing': 0.006135923151542565}, 'ylims': {'lower': '0', 'upper': '2pi', 'n': 1024, 'isPeriodic': True, 'spacing': 0.006135923151542565}, 'zlims': {'lower': '0', 'upper': '2pi', 'n': 1024, 'isPeriodic': True, 'spacing': 0.006135923151542565}}, 'physicalVariables': [{'code': 'velocity', 'name': 'Velocity', 'isPersistent': True, 'offsets': [{'code': 'velocity', 'grid': [0, 0, 0], 'coordinate': [0, 0, 0]}], 'spatialOperatorMethods': [{'operator': 'field', 'methods': ['none', 'lag4', 'lag6', 'lag8', 'm1q4', 'm2q8']}, {'operator': 'gradient', 'methods': ['m1q4', 'm2q8', 'fd4noint', 'fd6noint', 'fd8noint', 'fd4lag4']}, {'operator': 'hessian', 'methods': ['m2q8', 'fd4noint', 'fd6noint', 'fd8noint', 'fd4lag4']}, {'operator': 'laplacian', 'methods': ['fd4noint', 'fd6noint', 'fd8noint', 'fd4lag4']}], 'temporalMethods': ['none', 'pchip']}, {'code': 'pressure', 'name': 'Pressure', 'isPersistent': True, 'offsets': [{'code': 'pressure', 'grid': [0, 0, 0], 'coordinate': [0, 0, 0]}], 'spatialOperatorMethods': [{'operator': 'field', 'methods': ['none', 'lag4', 'lag6', 'lag8', 'm1q4', 'm2q8']}, {'operator': 'gradient', 'methods': ['m1q4', 'm2q8', 'fd4noint', 'fd6noint', 'fd8noint', 'fd4lag4']}, {'operator': 'hessian', 'methods': ['m2q8', 'fd4noint', 'fd6noint', 'fd8noint', 'fd4lag4']}], 'temporalMethods': ['none', 'pchip']}, {'code': 'position', 'name': 'Position', 'isPersistent': False, 'offsets': [{'code': 'position', 'grid': [0, 0, 0], 'coordinate': [0, 0, 0]}], 'spatialOperatorMethods': [{'operator': 'field', 'methods': ['lag4', 'lag6', 'lag8']}], 'temporalMethods': ['pchip']}, {'code': 'force', 'name': 'Force', 'isPersistent': False, 'offsets': [{'code': 'force', 'grid': [0, 0, 0], 'coordinate': [0, 0, 0]}], 'spatialOperatorMethods': [{'operator': 'field', 'methods': ['none']}], 'temporalMethods': ['none', 'pchip']}]}, 'isotropic1024fine': {'code': 'isotropic1024fine', 'name': 'Isotropic 1024 Fine', 'description': None, 'storage': {'filepath': '/home/idies/workspace/turbulence-ceph-staging/sciserver-turbulence/isotropic1024fine/isotropic1024fine.zarr', 'chunks': [64, 64, 64]}, 'simulation': {'tlims': {'lower': '0', 'upper': '0.0198', 'n': 100, 'isPeriodic': False, 'isDiscrete': False, 'timeIndexShift': {'getcutout': -1, 'getdata': 0}}, 'xlims': {'lower': '0', 'upper': '2pi', 'n': 1024, 'isPeriodic': True, 'spacing': 0.006135923151542565}, 'ylims': {'lower': '0', 'upper': '2pi', 'n': 1024, 'isPeriodic': True, 'spacing': 0.006135923151542565}, 'zlims': {'lower': '0', 'upper': '2pi', 'n': 1024, 'isPeriodic': True, 'spacing': 0.006135923151542565}}, 'physicalVariables': [{'code': 'velocity', 'name': 'Velocity', 'isPersistent': True, 'offsets': [{'code': 'velocity', 'grid': [0, 0, 0], 'coordinate': [0, 0, 0]}], 'spatialOperatorMethods': [{'operator': 'field', 'methods': ['none', 'lag4', 'lag6', 'lag8', 'm1q4', 'm2q8']}, {'operator': 'gradient', 'methods': ['m1q4', 'm2q8', 'fd4noint', 'fd6noint', 'fd8noint', 'fd4lag4']}, {'operator': 'hessian', 'methods': ['m2q8', 'fd4noint', 'fd6noint', 'fd8noint', 'fd4lag4']}, {'operator': 'laplacian', 'methods': ['fd4noint', 'fd6noint', 'fd8noint', 'fd4lag4']}], 'temporalMethods': ['none', 'pchip']}, {'code': 'pressure', 'name': 'Pressure', 'isPersistent': True, 'offsets': [{'code': 'pressure', 'grid': [0, 0, 0], 'coordinate': [0, 0, 0]}], 'spatialOperatorMethods': [{'operator': 'field', 'methods': ['none', 'lag4', 'lag6', 'lag8', 'm1q4', 'm2q8']}, {'operator': 'gradient', 'methods': ['m1q4', 'm2q8', 'fd4noint', 'fd6noint', 'fd8noint', 'fd4lag4']}, {'operator': 'hessian', 'methods': ['m2q8', 'fd4noint', 'fd6noint', 'fd8noint', 'fd4lag4']}], 'temporalMethods': ['none', 'pchip']}, {'code': 'position', 'name': 'Position', 'isPersistent': False, 'offsets': [{'code': 'position', 'grid': [0, 0, 0], 'coordinate': [0, 0, 0]}], 'spatialOperatorMethods': [{'operator': 'field', 'methods': ['lag4', 'lag6', 'lag8']}], 'temporalMethods': ['pchip']}, {'code': 'force', 'name': 'Force', 'isPersistent': False, 'offsets': [{'code': 'force', 'grid': [0, 0, 0], 'coordinate': [0, 0, 0]}], 'spatialOperatorMethods': [{'operator': 'field', 'methods': ['none']}], 'temporalMethods': ['none', 'pchip']}]}, 'isotropic4096': {'code': 'isotropic4096', 'name': 'Isotropic 4096', 'description': None, 'storage': {'filepath': '/home/idies/workspace/turbulence-ceph-staging/sciserver-turbulence/isotropic4096/isotropic4096.zarr', 'chunks': [64, 64, 64]}, 'simulation': {'tlims': {'lower': '1', 'upper': '1', 'n': 1, 'isPeriodic': False, 'isDiscrete': True, 'timeIndexShift': {'getcutout': -1, 'getdata': -1}}, 'xlims': {'lower': '0', 'upper': '2pi', 'n': 4096, 'isPeriodic': True, 'spacing': 0.0015339807878856412}, 'ylims': {'lower': '0', 'upper': '2pi', 'n': 4096, 'isPeriodic': True, 'spacing': 0.0015339807878856412}, 'zlims': {'lower': '0', 'upper': '2pi', 'n': 4096, 'isPeriodic': True, 'spacing': 0.0015339807878856412}}, 'physicalVariables': [{'code': 'velocity', 'name': 'Velocity', 'isPersistent': True, 'offsets': [{'code': 'velocity', 'grid': [0, 0, 0], 'coordinate': [0, 0, 0]}], 'spatialOperatorMethods': [{'operator': 'field', 'methods': ['none', 'lag4', 'lag6', 'lag8', 'm1q4', 'm2q8']}, {'operator': 'gradient', 'methods': ['m1q4', 'm2q8', 'fd4noint', 'fd6noint', 'fd8noint', 'fd4lag4']}, {'operator': 'hessian', 'methods': ['m2q8', 'fd4noint', 'fd6noint', 'fd8noint', 'fd4lag4']}, {'operator': 'laplacian', 'methods': ['fd4noint', 'fd6noint', 'fd8noint', 'fd4lag4']}], 'temporalMethods': ['none']}]}, 'isotropic8192': {'code': 'isotropic8192', 'name': 'Isotropic 8192', 'description': None, 'storage': {'filepath': '/home/idies/workspace/turbulence-ceph/sciserver-turbulence/isotropic8192/isotropic8192.zarr', 'chunks': [64, 64, 64]}, 'simulation': {'tlims': {'lower': '1', 'upper': '6', 'n': 6, 'isPeriodic': False, 'isDiscrete': True, 'timeIndexShift': {'getcutout': -1, 'getdata': -1}}, 'xlims': {'lower': '0', 'upper': '2pi', 'n': 8192, 'isPeriodic': True, 'spacing': 0.0007669903939428206}, 'ylims': {'lower': '0', 'upper': '2pi', 'n': 8192, 'isPeriodic': True, 'spacing': 0.0007669903939428206}, 'zlims': {'lower': '0', 'upper': '2pi', 'n': 8192, 'isPeriodic': True, 'spacing': 0.0007669903939428206}}, 'physicalVariables': [{'code': 'velocity', 'name': 'Velocity', 'isPersistent': True, 'offsets': [{'code': 'velocity', 'grid': [0, 0, 0], 'coordinate': [0, 0, 0]}], 'spatialOperatorMethods': [{'operator': 'field', 'methods': ['none', 'lag4', 'lag6', 'lag8', 'm1q4', 'm2q8']}, {'operator': 'gradient', 'methods': ['m1q4', 'm2q8', 'fd4noint', 'fd6noint', 'fd8noint', 'fd4lag4']}, {'operator': 'hessian', 'methods': ['m2q8', 'fd4noint', 'fd6noint', 'fd8noint']}, {'operator': 'laplacian', 'methods': ['fd4noint', 'fd6noint', 'fd8noint', 'fd4lag4']}], 'temporalMethods': ['none']}, {'code': 'pressure', 'name': 'Pressure', 'isPersistent': True, 'offsets': [{'code': 'pressure', 'grid': [0, 0, 0], 'coordinate': [0, 0, 0]}], 'spatialOperatorMethods': [{'operator': 'field', 'methods': ['none', 'lag4', 'lag6', 'lag8', 'm1q4', 'm2q8']}, {'operator': 'gradient', 'methods': ['m1q4', 'm2q8', 'fd4noint', 'fd6noint', 'fd8noint', 'fd4lag4']}, {'operator': 'hessian', 'methods': ['m2q8', 'fd4noint', 'fd6noint', 'fd8noint']}], 'temporalMethods': ['none']}]}, 'isotropic32768': {'code': 'isotropic32768', 'name': 'Isotropic 32768', 'description': None, 'storage': {'filepath': '/home/idies/workspace/turbulence-ceph/sciserver-turbulence/isotropic32768/isotropic32768.zarr', 'chunks': [64, 64, 64]}, 'simulation': {'tlims': {'lower': '1', 'upper': '1', 'n': 1, 'isPeriodic': False, 'isDiscrete': True, 'timeIndexShift': {'getcutout': -1, 'getdata': -1}}, 'xlims': {'lower': '0', 'upper': '2pi', 'n': 32768, 'isPeriodic': True, 'spacing': 0.00019174759848570515}, 'ylims': {'lower': '0', 'upper': '2pi', 'n': 32768, 'isPeriodic': True, 'spacing': 0.00019174759848570515}, 'zlims': {'lower': '0', 'upper': '2pi', 'n': 32768, 'isPeriodic': True, 'spacing': 0.00019174759848570515}}, 'physicalVariables': [{'code': 'velocity', 'name': 'Velocity', 'isPersistent': True, 'offsets': [{'code': 'velocity', 'grid': [0, 0, 0], 'coordinate': [0, 0, 0]}], 'spatialOperatorMethods': [{'operator': 'field', 'methods': ['none', 'lag4', 'lag6', 'lag8', 'm1q4', 'm2q8']}, {'operator': 'gradient', 'methods': ['m1q4', 'm2q8', 'fd4noint', 'fd6noint', 'fd8noint', 'fd4lag4']}, {'operator': 'hessian', 'methods': ['m2q8', 'fd4noint', 'fd6noint', 'fd8noint']}, {'operator': 'laplacian', 'methods': ['fd4noint', 'fd6noint', 'fd8noint', 'fd4lag4']}], 'temporalMethods': ['none']}, {'code': 'pressure', 'name': 'Pressure', 'isPersistent': True, 'offsets': [{'code': 'pressure', 'grid': [0, 0, 0], 'coordinate': [0, 0, 0]}], 'spatialOperatorMethods': [{'operator': 'field', 'methods': ['none', 'lag4', 'lag6', 'lag8', 'm1q4', 'm2q8']}, {'operator': 'gradient', 'methods': ['m1q4', 'm2q8', 'fd4noint', 'fd6noint', 'fd8noint', 'fd4lag4']}, {'operator': 'hessian', 'methods': ['m2q8', 'fd4noint', 'fd6noint', 'fd8noint']}], 'temporalMethods': ['none']}]}, 'sabl2048low': {'code': 'sabl2048low', 'name': 'Stably Stratified Atmospheric Boundary Layer 2048 low-frequency', 'description': None, 'storage': {'filepath': '/home/idies/workspace/turbulence-ceph/sciserver-turbulence/sabl2048low/sabl2048low.zarr', 'chunks': [64, 64, 64]}, 'simulation': {'tlims': {'lower': '1', 'upper': '20', 'n': 20, 'isPeriodic': False, 'isDiscrete': True, 'timeIndexShift': {'getcutout': -1, 'getdata': -1}}, 'xlims': {'lower': '0', 'upper': '400', 'n': 2048, 'isPeriodic': True, 'spacing': 0.1953125}, 'ylims': {'lower': '0', 'upper': '400', 'n': 2048, 'isPeriodic': True, 'spacing': 0.1953125}, 'zlims': {'lower': '0.09765625', 'upper': '399.90234375', 'n': 2048, 'isPeriodic': False, 'spacing': 0.1953125}}, 'physicalVariables': [{'code': 'velocity', 'name': 'Velocity', 'isPersistent': True, 'offsets': [{'code': 'velocity_uv', 'grid': [0, 0, -0.5], 'coordinate': [0, 0, 0.09765625]}, {'code': 'velocity_w', 'grid': [0, 0, -1.0], 'coordinate': [0, 0, 0.1953125]}], 'spatialOperatorMethods': [{'operator': 'field', 'methods': ['lag4', 'lag6', 'lag8', 'm1q4', 'm2q8']}, {'operator': 'gradient', 'methods': ['m1q4', 'm2q8', 'fd4noint', 'fd6noint', 'fd8noint', 'fd4lag4']}, {'operator': 'hessian', 'methods': ['m2q8', 'fd4noint', 'fd6noint', 'fd8noint']}, {'operator': 'laplacian', 'methods': ['fd4noint', 'fd6noint', 'fd8noint', 'fd4lag4']}], 'temporalMethods': ['none']}, {'code': 'pressure', 'name': 'Pressure', 'isPersistent': True, 'offsets': [{'code': 'pressure', 'grid': [0, 0, -0.5], 'coordinate': [0, 0, 0.09765625]}], 'spatialOperatorMethods': [{'operator': 'field', 'methods': ['lag4', 'lag6', 'lag8', 'm1q4', 'm2q8']}, {'operator': 'gradient', 'methods': ['m1q4', 'm2q8', 'fd4noint', 'fd6noint', 'fd8noint', 'fd4lag4']}, {'operator': 'hessian', 'methods': ['m2q8', 'fd4noint', 'fd6noint', 'fd8noint']}], 'temporalMethods': ['none']}, {'code': 'temperature', 'name': 'Temperature', 'isPersistent': True, 'offsets': [{'code': 'temperature', 'grid': [0, 0, -0.5], 'coordinate': [0, 0, 0.09765625]}], 'spatialOperatorMethods': [{'operator': 'field', 'methods': ['lag4', 'lag6', 'lag8', 'm1q4', 'm2q8']}, {'operator': 'gradient', 'methods': ['m1q4', 'm2q8', 'fd4noint', 'fd6noint', 'fd8noint', 'fd4lag4']}, {'operator': 'hessian', 'methods': ['m2q8', 'fd4noint', 'fd6noint', 'fd8noint']}], 'temporalMethods': ['none']}, {'code': 'sgsenergy', 'name': 'Subgrid-scale Energy', 'isPersistent': True, 'offsets': [{'code': 'sgsenergy', 'grid': [0, 0, -1.0], 'coordinate': [0, 0, 0.1953125]}], 'spatialOperatorMethods': [{'operator': 'field', 'methods': ['lag4', 'lag6', 'lag8', 'm1q4', 'm2q8']}, {'operator': 'gradient', 'methods': ['m1q4', 'm2q8', 'fd4noint', 'fd6noint', 'fd8noint', 'fd4lag4']}, {'operator': 'hessian', 'methods': ['m2q8', 'fd4noint', 'fd6noint', 'fd8noint']}], 'temporalMethods': ['none']}]}, 'sabl2048high': {'code': 'sabl2048high', 'name': 'Stably Stratified Atmospheric Boundary Layer 2048 high-frequency', 'description': None, 'storage': {'filepath': '/home/idies/workspace/turbulence-ceph/sciserver-turbulence/sabl2048high/sabl2048high.zarr', 'chunks': [64, 64, 64]}, 'simulation': {'tlims': {'lower': '0', 'upper': '7.425', 'n': 100, 'isPeriodic': False, 'isDiscrete': False, 'timeIndexShift': {'getcutout': 0, 'getdata': 1}}, 'xlims': {'lower': '0', 'upper': '400', 'n': 2048, 'isPeriodic': True, 'spacing': 0.1953125}, 'ylims': {'lower': '0', 'upper': '400', 'n': 2048, 'isPeriodic': True, 'spacing': 0.1953125}, 'zlims': {'lower': '0.09765625', 'upper': '399.90234375', 'n': 2048, 'isPeriodic': False, 'spacing': 0.1953125}}, 'physicalVariables': [{'code': 'velocity', 'name': 'Velocity', 'isPersistent': True, 'offsets': [{'code': 'velocity_uv', 'grid': [0, 0, -0.5], 'coordinate': [0, 0, 0.09765625]}, {'code': 'velocity_w', 'grid': [0, 0, -1.0], 'coordinate': [0, 0, 0.1953125]}], 'spatialOperatorMethods': [{'operator': 'field', 'methods': ['lag4', 'lag6', 'lag8', 'm1q4', 'm2q8']}, {'operator': 'gradient', 'methods': ['m1q4', 'm2q8', 'fd4noint', 'fd6noint', 'fd8noint', 'fd4lag4']}, {'operator': 'hessian', 'methods': ['m2q8', 'fd4noint', 'fd6noint', 'fd8noint']}, {'operator': 'laplacian', 'methods': ['fd4noint', 'fd6noint', 'fd8noint', 'fd4lag4']}], 'temporalMethods': ['none', 'pchip']}, {'code': 'pressure', 'name': 'Pressure', 'isPersistent': True, 'offsets': [{'code': 'pressure', 'grid': [0, 0, -0.5], 'coordinate': [0, 0, 0.09765625]}], 'spatialOperatorMethods': [{'operator': 'field', 'methods': ['lag4', 'lag6', 'lag8', 'm1q4', 'm2q8']}, {'operator': 'gradient', 'methods': ['m1q4', 'm2q8', 'fd4noint', 'fd6noint', 'fd8noint', 'fd4lag4']}, {'operator': 'hessian', 'methods': ['m2q8', 'fd4noint', 'fd6noint', 'fd8noint']}], 'temporalMethods': ['none', 'pchip']}, {'code': 'temperature', 'name': 'Temperature', 'isPersistent': True, 'offsets': [{'code': 'temperature', 'grid': [0, 0, -0.5], 'coordinate': [0, 0, 0.09765625]}], 'spatialOperatorMethods': [{'operator': 'field', 'methods': ['lag4', 'lag6', 'lag8', 'm1q4', 'm2q8']}, {'operator': 'gradient', 'methods': ['m1q4', 'm2q8', 'fd4noint', 'fd6noint', 'fd8noint', 'fd4lag4']}, {'operator': 'hessian', 'methods': ['m2q8', 'fd4noint', 'fd6noint', 'fd8noint']}], 'temporalMethods': ['none', 'pchip']}, {'code': 'sgsenergy', 'name': 'Subgrid-scale Energy', 'isPersistent': True, 'offsets': [{'code': 'sgsenergy', 'grid': [0, 0, -1.0], 'coordinate': [0, 0, 0.1953125]}], 'spatialOperatorMethods': [{'operator': 'field', 'methods': ['lag4', 'lag6', 'lag8', 'm1q4', 'm2q8']}, {'operator': 'gradient', 'methods': ['m1q4', 'm2q8', 'fd4noint', 'fd6noint', 'fd8noint', 'fd4lag4']}, {'operator': 'hessian', 'methods': ['m2q8', 'fd4noint', 'fd6noint', 'fd8noint']}], 'temporalMethods': ['none', 'pchip']}]}, 'stsabl2048low': {'code': 'stsabl2048low', 'name': 'Strong Stably Stratified Atmospheric Boundary Layer 2048 low-frequency', 'description': None, 'storage': {'filepath': '/home/idies/workspace/turbulence-ceph/sciserver-turbulence/stsabl2048low/stsabl2048low.zarr', 'chunks': [64, 64, 64]}, 'simulation': {'tlims': {'lower': '1', 'upper': '20', 'n': 20, 'isPeriodic': False, 'isDiscrete': True, 'timeIndexShift': {'getcutout': -1, 'getdata': -1}}, 'xlims': {'lower': '0', 'upper': '400', 'n': 2048, 'isPeriodic': True, 'spacing': 0.1953125}, 'ylims': {'lower': '0', 'upper': '400', 'n': 2048, 'isPeriodic': True, 'spacing': 0.1953125}, 'zlims': {'lower': '0.09765625', 'upper': '399.90234375', 'n': 2048, 'isPeriodic': False, 'spacing': 0.1953125}}, 'physicalVariables': [{'code': 'velocity', 'name': 'Velocity', 'isPersistent': True, 'offsets': [{'code': 'velocity_uv', 'grid': [0, 0, -0.5], 'coordinate': [0, 0, 0.09765625]}, {'code': 'velocity_w', 'grid': [0, 0, -1.0], 'coordinate': [0, 0, 0.1953125]}], 'spatialOperatorMethods': [{'operator': 'field', 'methods': ['lag4', 'lag6', 'lag8', 'm1q4', 'm2q8']}, {'operator': 'gradient', 'methods': ['m1q4', 'm2q8', 'fd4noint', 'fd6noint', 'fd8noint', 'fd4lag4']}, {'operator': 'hessian', 'methods': ['m2q8', 'fd4noint', 'fd6noint', 'fd8noint']}, {'operator': 'laplacian', 'methods': ['fd4noint', 'fd6noint', 'fd8noint', 'fd4lag4']}], 'temporalMethods': ['none']}, {'code': 'pressure', 'name': 'Pressure', 'isPersistent': True, 'offsets': [{'code': 'pressure', 'grid': [0, 0, -0.5], 'coordinate': [0, 0, 0.09765625]}], 'spatialOperatorMethods': [{'operator': 'field', 'methods': ['lag4', 'lag6', 'lag8', 'm1q4', 'm2q8']}, {'operator': 'gradient', 'methods': ['m1q4', 'm2q8', 'fd4noint', 'fd6noint', 'fd8noint', 'fd4lag4']}, {'operator': 'hessian', 'methods': ['m2q8', 'fd4noint', 'fd6noint', 'fd8noint']}], 'temporalMethods': ['none']}, {'code': 'temperature', 'name': 'Temperature', 'isPersistent': True, 'offsets': [{'code': 'temperature', 'grid': [0, 0, -0.5], 'coordinate': [0, 0, 0.09765625]}], 'spatialOperatorMethods': [{'operator': 'field', 'methods': ['lag4', 'lag6', 'lag8', 'm1q4', 'm2q8']}, {'operator': 'gradient', 'methods': ['m1q4', 'm2q8', 'fd4noint', 'fd6noint', 'fd8noint', 'fd4lag4']}, {'operator': 'hessian', 'methods': ['m2q8', 'fd4noint', 'fd6noint', 'fd8noint']}], 'temporalMethods': ['none']}, {'code': 'sgsenergy', 'name': 'Subgrid-scale Energy', 'isPersistent': True, 'offsets': [{'code': 'sgsenergy', 'grid': [0, 0, -1.0], 'coordinate': [0, 0, 0.1953125]}], 'spatialOperatorMethods': [{'operator': 'field', 'methods': ['lag4', 'lag6', 'lag8', 'm1q4', 'm2q8']}, {'operator': 'gradient', 'methods': ['m1q4', 'm2q8', 'fd4noint', 'fd6noint', 'fd8noint', 'fd4lag4']}, {'operator': 'hessian', 'methods': ['m2q8', 'fd4noint', 'fd6noint', 'fd8noint']}], 'temporalMethods': ['none']}]}, 'stsabl2048high': {'code': 'stsabl2048high', 'name': 'Strong Stably Stratified Atmospheric Boundary Layer 2048 high-frequency', 'description': None, 'storage': {'filepath': '/home/idies/workspace/turbulence-ceph/sciserver-turbulence/stsabl2048high/stsabl2048high.zarr', 'chunks': [64, 64, 64]}, 'simulation': {'tlims': {'lower': '0', 'upper': '7.425', 'n': 100, 'isPeriodic': False, 'isDiscrete': False, 'timeIndexShift': {'getcutout': 0, 'getdata': 1}}, 'xlims': {'lower': '0', 'upper': '400', 'n': 2048, 'isPeriodic': True, 'spacing': 0.1953125}, 'ylims': {'lower': '0', 'upper': '400', 'n': 2048, 'isPeriodic': True, 'spacing': 0.1953125}, 'zlims': {'lower': '0.09765625', 'upper': '399.90234375', 'n': 2048, 'isPeriodic': False, 'spacing': 0.1953125}}, 'physicalVariables': [{'code': 'velocity', 'name': 'Velocity', 'isPersistent': True, 'offsets': [{'code': 'velocity_uv', 'grid': [0, 0, -0.5], 'coordinate': [0, 0, 0.09765625]}, {'code': 'velocity_w', 'grid': [0, 0, -1.0], 'coordinate': [0, 0, 0.1953125]}], 'spatialOperatorMethods': [{'operator': 'field', 'methods': ['lag4', 'lag6', 'lag8', 'm1q4', 'm2q8']}, {'operator': 'gradient', 'methods': ['m1q4', 'm2q8', 'fd4noint', 'fd6noint', 'fd8noint', 'fd4lag4']}, {'operator': 'hessian', 'methods': ['m2q8', 'fd4noint', 'fd6noint', 'fd8noint']}, {'operator': 'laplacian', 'methods': ['fd4noint', 'fd6noint', 'fd8noint', 'fd4lag4']}], 'temporalMethods': ['none', 'pchip']}, {'code': 'pressure', 'name': 'Pressure', 'isPersistent': True, 'offsets': [{'code': 'pressure', 'grid': [0, 0, -0.5], 'coordinate': [0, 0, 0.09765625]}], 'spatialOperatorMethods': [{'operator': 'field', 'methods': ['lag4', 'lag6', 'lag8', 'm1q4', 'm2q8']}, {'operator': 'gradient', 'methods': ['m1q4', 'm2q8', 'fd4noint', 'fd6noint', 'fd8noint', 'fd4lag4']}, {'operator': 'hessian', 'methods': ['m2q8', 'fd4noint', 'fd6noint', 'fd8noint']}], 'temporalMethods': ['none', 'pchip']}, {'code': 'temperature', 'name': 'Temperature', 'isPersistent': True, 'offsets': [{'code': 'temperature', 'grid': [0, 0, -0.5], 'coordinate': [0, 0, 0.09765625]}], 'spatialOperatorMethods': [{'operator': 'field', 'methods': ['lag4', 'lag6', 'lag8', 'm1q4', 'm2q8']}, {'operator': 'gradient', 'methods': ['m1q4', 'm2q8', 'fd4noint', 'fd6noint', 'fd8noint', 'fd4lag4']}, {'operator': 'hessian', 'methods': ['m2q8', 'fd4noint', 'fd6noint', 'fd8noint']}], 'temporalMethods': ['none', 'pchip']}, {'code': 'sgsenergy', 'name': 'Subgrid-scale Energy', 'isPersistent': True, 'offsets': [{'code': 'sgsenergy', 'grid': [0, 0, -1.0], 'coordinate': [0, 0, 0.1953125]}], 'spatialOperatorMethods': [{'operator': 'field', 'methods': ['lag4', 'lag6', 'lag8', 'm1q4', 'm2q8']}, {'operator': 'gradient', 'methods': ['m1q4', 'm2q8', 'fd4noint', 'fd6noint', 'fd8noint', 'fd4lag4']}, {'operator': 'hessian', 'methods': ['m2q8', 'fd4noint', 'fd6noint', 'fd8noint']}], 'temporalMethods': ['none', 'pchip']}]}, 'mhd1024': {'code': 'mhd1024', 'name': 'Magneto-Hydrodynamic 1024', 'description': None, 'storage': {'filepath': '/home/idies/workspace/turbulence-ceph-staging/sciserver-turbulence/mhd1024/mhd1024.zarr', 'chunks': [64, 64, 64]}, 'simulation': {'tlims': {'lower': '0', 'upper': '2.56', 'n': 1025, 'isPeriodic': False, 'isDiscrete': False, 'timeIndexShift': {'getcutout': -1, 'getdata': 0}}, 'xlims': {'lower': '0', 'upper': '2pi', 'n': 1024, 'isPeriodic': True, 'spacing': 0.006135923151542565}, 'ylims': {'lower': '0', 'upper': '2pi', 'n': 1024, 'isPeriodic': True, 'spacing': 0.006135923151542565}, 'zlims': {'lower': '0', 'upper': '2pi', 'n': 1024, 'isPeriodic': True, 'spacing': 0.006135923151542565}}, 'physicalVariables': [{'code': 'velocity', 'name': 'Velocity', 'isPersistent': True, 'offsets': [{'code': 'velocity', 'grid': [0, 0, 0], 'coordinate': [0, 0, 0]}], 'spatialOperatorMethods': [{'operator': 'field', 'methods': ['none', 'lag4', 'lag6', 'lag8', 'm1q4', 'm2q8']}, {'operator': 'gradient', 'methods': ['m1q4', 'm2q8', 'fd4noint', 'fd6noint', 'fd8noint', 'fd4lag4']}, {'operator': 'hessian', 'methods': ['m2q8', 'fd4noint', 'fd6noint', 'fd8noint', 'fd4lag4']}, {'operator': 'laplacian', 'methods': ['fd4noint', 'fd6noint', 'fd8noint', 'fd4lag4']}], 'temporalMethods': ['none', 'pchip']}, {'code': 'pressure', 'name': 'Pressure', 'isPersistent': True, 'offsets': [{'code': 'pressure', 'grid': [0, 0, 0], 'coordinate': [0, 0, 0]}], 'spatialOperatorMethods': [{'operator': 'field', 'methods': ['none', 'lag4', 'lag6', 'lag8', 'm1q4', 'm2q8']}, {'operator': 'gradient', 'methods': ['m1q4', 'm2q8', 'fd4noint', 'fd6noint', 'fd8noint', 'fd4lag4']}, {'operator': 'hessian', 'methods': ['m2q8', 'fd4noint', 'fd6noint', 'fd8noint', 'fd4lag4']}], 'temporalMethods': ['none', 'pchip']}, {'code': 'magneticfield', 'name': 'Magnetic Field', 'isPersistent': True, 'offsets': [{'code': 'magneticfield', 'grid': [0, 0, 0], 'coordinate': [0, 0, 0]}], 'spatialOperatorMethods': [{'operator': 'field', 'methods': ['none', 'lag4', 'lag6', 'lag8', 'm1q4', 'm2q8']}, {'operator': 'gradient', 'methods': ['m1q4', 'm2q8', 'fd4noint', 'fd6noint', 'fd8noint', 'fd4lag4']}, {'operator': 'hessian', 'methods': ['m2q8', 'fd4noint', 'fd6noint', 'fd8noint', 'fd4lag4']}, {'operator': 'laplacian', 'methods': ['fd4noint', 'fd6noint', 'fd8noint', 'fd4lag4']}], 'temporalMethods': ['none', 'pchip']}, {'code': 'vectorpotential', 'name': 'Vector Potential', 'isPersistent': True, 'offsets': [{'code': 'vectorpotential', 'grid': [0, 0, 0], 'coordinate': [0, 0, 0]}], 'spatialOperatorMethods': [{'operator': 'field', 'methods': ['none', 'lag4', 'lag6', 'lag8', 'm1q4', 'm2q8']}, {'operator': 'gradient', 'methods': ['m1q4', 'm2q8', 'fd4noint', 'fd6noint', 'fd8noint', 'fd4lag4']}, {'operator': 'hessian', 'methods': ['m2q8', 'fd4noint', 'fd6noint', 'fd8noint', 'fd4lag4']}, {'operator': 'laplacian', 'methods': ['fd4noint', 'fd6noint', 'fd8noint', 'fd4lag4']}], 'temporalMethods': ['none', 'pchip']}, {'code': 'position', 'name': 'Position', 'isPersistent': False, 'offsets': [{'code': 'position', 'grid': [0, 0, 0], 'coordinate': [0, 0, 0]}], 'spatialOperatorMethods': [{'operator': 'field', 'methods': ['lag4', 'lag6', 'lag8']}], 'temporalMethods': ['pchip']}, {'code': 'force', 'name': 'Force', 'isPersistent': False, 'offsets': [{'code': 'force', 'grid': [0, 0, 0], 'coordinate': [0, 0, 0]}], 'spatialOperatorMethods': [{'operator': 'field', 'methods': ['none']}], 'temporalMethods': ['none', 'pchip']}]}, 'mixing': {'code': 'mixing', 'name': 'Homogeneous Buoyancy Driven', 'description': None, 'storage': {'filepath': '/home/idies/workspace/turbulence-ceph-staging/sciserver-turbulence/mixing/mixing.zarr', 'chunks': [64, 64, 64]}, 'simulation': {'tlims': {'lower': '0', 'upper': '40.44', 'n': 1012, 'isPeriodic': False, 'isDiscrete': False, 'timeIndexShift': {'getcutout': -1, 'getdata': 0}}, 'xlims': {'lower': '0', 'upper': '2pi', 'n': 1024, 'isPeriodic': True, 'spacing': 0.006135923151542565}, 'ylims': {'lower': '0', 'upper': '2pi', 'n': 1024, 'isPeriodic': True, 'spacing': 0.006135923151542565}, 'zlims': {'lower': '0', 'upper': '2pi', 'n': 1024, 'isPeriodic': True, 'spacing': 0.006135923151542565}}, 'physicalVariables': [{'code': 'velocity', 'name': 'Velocity', 'isPersistent': True, 'offsets': [{'code': 'velocity', 'grid': [0, 0, 0], 'coordinate': [0, 0, 0]}], 'spatialOperatorMethods': [{'operator': 'field', 'methods': ['none', 'lag4', 'lag6', 'lag8', 'm1q4', 'm2q8']}, {'operator': 'gradient', 'methods': ['m1q4', 'm2q8', 'fd4noint', 'fd6noint', 'fd8noint', 'fd4lag4']}, {'operator': 'hessian', 'methods': ['m2q8', 'fd4noint', 'fd6noint', 'fd8noint', 'fd4lag4']}, {'operator': 'laplacian', 'methods': ['fd4noint', 'fd6noint', 'fd8noint', 'fd4lag4']}], 'temporalMethods': ['none', 'pchip']}, {'code': 'pressure', 'name': 'Pressure', 'isPersistent': True, 'offsets': [{'code': 'pressure', 'grid': [0, 0, 0], 'coordinate': [0, 0, 0]}], 'spatialOperatorMethods': [{'operator': 'field', 'methods': ['none', 'lag4', 'lag6', 'lag8', 'm1q4', 'm2q8']}, {'operator': 'gradient', 'methods': ['m1q4', 'm2q8', 'fd4noint', 'fd6noint', 'fd8noint', 'fd4lag4']}, {'operator': 'hessian', 'methods': ['m2q8', 'fd4noint', 'fd6noint', 'fd8noint', 'fd4lag4']}], 'temporalMethods': ['none', 'pchip']}, {'code': 'density', 'name': 'Density', 'isPersistent': True, 'offsets': [{'code': 'density', 'grid': [0, 0, 0], 'coordinate': [0, 0, 0]}], 'spatialOperatorMethods': [{'operator': 'field', 'methods': ['none', 'lag4', 'lag6', 'lag8', 'm1q4', 'm2q8']}, {'operator': 'gradient', 'methods': ['m1q4', 'm2q8', 'fd4noint', 'fd6noint', 'fd8noint', 'fd4lag4']}, {'operator': 'hessian', 'methods': ['m2q8', 'fd4noint', 'fd6noint', 'fd8noint', 'fd4lag4']}], 'temporalMethods': ['none', 'pchip']}, {'code': 'position', 'name': 'Position', 'isPersistent': False, 'offsets': [{'code': 'position', 'grid': [0, 0, 0], 'coordinate': [0, 0, 0]}], 'spatialOperatorMethods': [{'operator': 'field', 'methods': ['lag4', 'lag6', 'lag8']}], 'temporalMethods': ['pchip']}]}, 'rotstrat4096': {'code': 'rotstrat4096', 'name': 'Rotating Stratified 4096', 'description': None, 'storage': {'filepath': '/home/idies/workspace/turbulence-ceph-staging/sciserver-turbulence/rotstrat4096/rotstrat4096.zarr', 'chunks': [64, 64, 64]}, 'simulation': {'tlims': {'lower': '1', 'upper': '5', 'n': 5, 'isPeriodic': False, 'isDiscrete': True, 'timeIndexShift': {'getcutout': -1, 'getdata': -1}}, 'xlims': {'lower': '0', 'upper': '2pi', 'n': 4096, 'isPeriodic': True, 'spacing': 0.0015339807878856412}, 'ylims': {'lower': '0', 'upper': '2pi', 'n': 4096, 'isPeriodic': True, 'spacing': 0.0015339807878856412}, 'zlims': {'lower': '0', 'upper': '2pi', 'n': 4096, 'isPeriodic': True, 'spacing': 0.0015339807878856412}}, 'physicalVariables': [{'code': 'velocity', 'name': 'Velocity', 'isPersistent': True, 'offsets': [{'code': 'velocity', 'grid': [0, 0, 0], 'coordinate': [0, 0, 0]}], 'spatialOperatorMethods': [{'operator': 'field', 'methods': ['none', 'lag4', 'lag6', 'lag8', 'm1q4', 'm2q8']}, {'operator': 'gradient', 'methods': ['m1q4', 'm2q8', 'fd4noint', 'fd6noint', 'fd8noint', 'fd4lag4']}, {'operator': 'hessian', 'methods': ['m2q8', 'fd4noint', 'fd6noint', 'fd8noint', 'fd4lag4']}, {'operator': 'laplacian', 'methods': ['fd4noint', 'fd6noint', 'fd8noint', 'fd4lag4']}], 'temporalMethods': ['none']}, {'code': 'temperature', 'name': 'Temperature', 'isPersistent': True, 'offsets': [{'code': 'temperature', 'grid': [0, 0, 0], 'coordinate': [0, 0, 0]}], 'spatialOperatorMethods': [{'operator': 'field', 'methods': ['none', 'lag4', 'lag6', 'lag8', 'm1q4', 'm2q8']}, {'operator': 'gradient', 'methods': ['m1q4', 'm2q8', 'fd4noint', 'fd6noint', 'fd8noint', 'fd4lag4']}, {'operator': 'hessian', 'methods': ['m2q8', 'fd4noint', 'fd6noint', 'fd8noint', 'fd4lag4']}], 'temporalMethods': ['none']}]}, 'transition_bl': {'code': 'transition_bl', 'name': 'Transitional Boundary Layer', 'description': None, 'storage': {'filepath': '/home/idies/workspace/turbulence-ceph-staging/sciserver-turbulence/transition_bl/transition_bl.zarr', 'chunks': [64, 64, 64]}, 'simulation': {'tlims': {'lower': '0', 'upper': '1175.0', 'n': 4701, 'isPeriodic': False, 'isDiscrete': False, 'timeIndexShift': {'getcutout': -1, 'getdata': 0}}, 'xlims': {'lower': '30.21850', 'upper': '1000.065', 'n': 3320, 'isPeriodic': False, 'spacing': 0.292210466}, 'ylims': {'lower': '0', 'upper': '26.48795', 'n': 224, 'isPeriodic': False, 'spacing': 'irregular transition bl dy'}, 'zlims': {'lower': '0', 'upper': '240', 'n': 2048, 'isPeriodic': True, 'spacing': 0.117244748}}, 'physicalVariables': [{'code': 'velocity', 'name': 'Velocity', 'isPersistent': True, 'offsets': [{'code': 'velocity', 'grid': [0, 0, 0], 'coordinate': [30.2185, 0, 0]}], 'spatialOperatorMethods': [{'operator': 'field', 'methods': ['none', 'lag4']}, {'operator': 'gradient', 'methods': ['fd4noint', 'fd4lag4']}, {'operator': 'hessian', 'methods': ['fd4noint', 'fd4lag4']}, {'operator': 'laplacian', 'methods': ['fd4noint', 'fd4lag4']}], 'temporalMethods': ['none', 'pchip']}, {'code': 'pressure', 'name': 'Pressure', 'isPersistent': True, 'offsets': [{'code': 'pressure', 'grid': [0, 0, 0], 'coordinate': [30.2185, 0, 0]}], 'spatialOperatorMethods': [{'operator': 'field', 'methods': ['none', 'lag4']}, {'operator': 'gradient', 'methods': ['fd4noint', 'fd4lag4']}, {'operator': 'hessian', 'methods': ['fd4noint', 'fd4lag4']}], 'temporalMethods': ['none', 'pchip']}, {'code': 'position', 'name': 'Position', 'isPersistent': False, 'offsets': [{'code': 'position', 'grid': [0, 0, 0], 'coordinate': [30.2185, 0, 0]}], 'spatialOperatorMethods': [{'operator': 'field', 'methods': ['lag4']}], 'temporalMethods': ['pchip']}]}}}\n"
     ]
    }
   ],
   "source": [
    "print(dataset.metadata)"
   ]
  },
  {
   "cell_type": "code",
   "execution_count": 4,
   "id": "85e2671c-8b0d-4653-bd81-0648433b0dcf",
   "metadata": {
    "execution": {
     "iopub.execute_input": "2025-05-09T07:32:41.930630Z",
     "iopub.status.busy": "2025-05-09T07:32:41.929761Z",
     "iopub.status.idle": "2025-05-09T07:32:41.940023Z",
     "shell.execute_reply": "2025-05-09T07:32:41.938541Z",
     "shell.execute_reply.started": "2025-05-09T07:32:41.930568Z"
    }
   },
   "outputs": [],
   "source": [
    "timesteps = list(range(1, 20))  # t=1 to 100\n",
    "stride = 32\n",
    "patch_size = 32\n",
    "\n",
    "X = []\n",
    "y = []"
   ]
  },
  {
   "cell_type": "code",
   "execution_count": 5,
   "id": "704e8a2a-0a2a-4d4e-a216-f6d22be47388",
   "metadata": {
    "execution": {
     "iopub.execute_input": "2025-05-09T07:32:59.179414Z",
     "iopub.status.busy": "2025-05-09T07:32:59.178508Z",
     "iopub.status.idle": "2025-05-09T07:48:04.490877Z",
     "shell.execute_reply": "2025-05-09T07:48:04.483324Z",
     "shell.execute_reply.started": "2025-05-09T07:32:59.179327Z"
    },
    "tags": []
   },
   "outputs": [
    {
     "name": "stdout",
     "output_type": "stream",
     "text": [
      "🔍 Collecting statistics for thresholding...\n"
     ]
    },
    {
     "name": "stderr",
     "output_type": "stream",
     "text": [
      "  0% 0/9 [00:00<?, ?it/s]"
     ]
    },
    {
     "name": "stdout",
     "output_type": "stream",
     "text": [
      "\n",
      "-----\n",
      "getCutout is processing...\n",
      "\n",
      "total time elapsed = 37.279 seconds (0.621 minutes)\n",
      "\n",
      "query completed successfully.\n",
      "-----\n",
      "\n",
      "-----\n",
      "getCutout is processing...\n",
      "\n",
      "total time elapsed = 10.848 seconds (0.181 minutes)\n",
      "\n",
      "query completed successfully.\n",
      "-----\n",
      "\n",
      "-----\n",
      "getCutout is processing...\n",
      "\n",
      "total time elapsed = 12.419 seconds (0.207 minutes)\n",
      "\n",
      "query completed successfully.\n",
      "-----\n"
     ]
    },
    {
     "name": "stderr",
     "output_type": "stream",
     "text": [
      " 11% 1/9 [01:05<08:42, 65.32s/it]"
     ]
    },
    {
     "name": "stdout",
     "output_type": "stream",
     "text": [
      "\n",
      "-----\n",
      "getCutout is processing...\n",
      "\n",
      "total time elapsed = 32.538 seconds (0.542 minutes)\n",
      "\n",
      "query completed successfully.\n",
      "-----\n",
      "\n",
      "-----\n",
      "getCutout is processing...\n",
      "\n",
      "total time elapsed = 12.538 seconds (0.209 minutes)\n",
      "\n",
      "query completed successfully.\n",
      "-----\n",
      "\n",
      "-----\n",
      "getCutout is processing...\n",
      "\n",
      "total time elapsed = 10.448 seconds (0.174 minutes)\n",
      "\n",
      "query completed successfully.\n",
      "-----\n"
     ]
    },
    {
     "name": "stderr",
     "output_type": "stream",
     "text": [
      " 22% 2/9 [02:05<07:16, 62.38s/it]"
     ]
    },
    {
     "name": "stdout",
     "output_type": "stream",
     "text": [
      "\n",
      "-----\n",
      "getCutout is processing...\n",
      "\n",
      "total time elapsed = 29.597 seconds (0.493 minutes)\n",
      "\n",
      "query completed successfully.\n",
      "-----\n",
      "\n",
      "-----\n",
      "getCutout is processing...\n",
      "\n",
      "total time elapsed = 11.536 seconds (0.192 minutes)\n",
      "\n",
      "query completed successfully.\n",
      "-----\n",
      "\n",
      "-----\n",
      "getCutout is processing...\n",
      "\n",
      "total time elapsed = 10.937 seconds (0.182 minutes)\n",
      "\n",
      "query completed successfully.\n",
      "-----\n"
     ]
    },
    {
     "name": "stderr",
     "output_type": "stream",
     "text": [
      " 33% 3/9 [03:02<05:59, 59.88s/it]"
     ]
    },
    {
     "name": "stdout",
     "output_type": "stream",
     "text": [
      "\n",
      "-----\n",
      "getCutout is processing...\n",
      "\n",
      "total time elapsed = 30.924 seconds (0.515 minutes)\n",
      "\n",
      "query completed successfully.\n",
      "-----\n",
      "\n",
      "-----\n",
      "getCutout is processing...\n",
      "\n",
      "total time elapsed = 10.919 seconds (0.182 minutes)\n",
      "\n",
      "query completed successfully.\n",
      "-----\n",
      "\n",
      "-----\n",
      "getCutout is processing...\n",
      "\n",
      "total time elapsed = 10.937 seconds (0.182 minutes)\n",
      "\n",
      "query completed successfully.\n",
      "-----\n"
     ]
    },
    {
     "name": "stderr",
     "output_type": "stream",
     "text": [
      " 44% 4/9 [04:00<04:54, 58.94s/it]"
     ]
    },
    {
     "name": "stdout",
     "output_type": "stream",
     "text": [
      "\n",
      "-----\n",
      "getCutout is processing...\n",
      "\n",
      "total time elapsed = 32.222 seconds (0.537 minutes)\n",
      "\n",
      "query completed successfully.\n",
      "-----\n",
      "\n",
      "-----\n",
      "getCutout is processing...\n",
      "\n",
      "total time elapsed = 10.591 seconds (0.177 minutes)\n",
      "\n",
      "query completed successfully.\n",
      "-----\n",
      "\n",
      "-----\n",
      "getCutout is processing...\n",
      "\n",
      "total time elapsed = 11.865 seconds (0.198 minutes)\n",
      "\n",
      "query completed successfully.\n",
      "-----\n"
     ]
    },
    {
     "name": "stderr",
     "output_type": "stream",
     "text": [
      " 56% 5/9 [04:59<03:56, 59.15s/it]"
     ]
    },
    {
     "name": "stdout",
     "output_type": "stream",
     "text": [
      "\n",
      "-----\n",
      "getCutout is processing...\n",
      "\n",
      "total time elapsed = 32.016 seconds (0.534 minutes)\n",
      "\n",
      "query completed successfully.\n",
      "-----\n",
      "\n",
      "-----\n",
      "getCutout is processing...\n",
      "\n",
      "total time elapsed = 11.169 seconds (0.186 minutes)\n",
      "\n",
      "query completed successfully.\n",
      "-----\n",
      "\n",
      "-----\n",
      "getCutout is processing...\n",
      "\n",
      "total time elapsed = 11.273 seconds (0.188 minutes)\n",
      "\n",
      "query completed successfully.\n",
      "-----\n"
     ]
    },
    {
     "name": "stderr",
     "output_type": "stream",
     "text": [
      " 67% 6/9 [05:58<02:57, 59.22s/it]"
     ]
    },
    {
     "name": "stdout",
     "output_type": "stream",
     "text": [
      "\n",
      "-----\n",
      "getCutout is processing...\n",
      "\n",
      "total time elapsed = 32.917 seconds (0.549 minutes)\n",
      "\n",
      "query completed successfully.\n",
      "-----\n",
      "\n",
      "-----\n",
      "getCutout is processing...\n",
      "\n",
      "total time elapsed = 10.260 seconds (0.171 minutes)\n",
      "\n",
      "query completed successfully.\n",
      "-----\n",
      "\n",
      "-----\n",
      "getCutout is processing...\n",
      "\n",
      "total time elapsed = 10.962 seconds (0.183 minutes)\n",
      "\n",
      "query completed successfully.\n",
      "-----\n"
     ]
    },
    {
     "name": "stderr",
     "output_type": "stream",
     "text": [
      " 78% 7/9 [06:57<01:58, 59.16s/it]"
     ]
    },
    {
     "name": "stdout",
     "output_type": "stream",
     "text": [
      "\n",
      "-----\n",
      "getCutout is processing...\n",
      "\n",
      "total time elapsed = 32.373 seconds (0.540 minutes)\n",
      "\n",
      "query completed successfully.\n",
      "-----\n",
      "\n",
      "-----\n",
      "getCutout is processing...\n",
      "\n",
      "total time elapsed = 10.473 seconds (0.175 minutes)\n",
      "\n",
      "query completed successfully.\n",
      "-----\n",
      "\n",
      "-----\n",
      "getCutout is processing...\n",
      "\n",
      "total time elapsed = 10.324 seconds (0.172 minutes)\n",
      "\n",
      "query completed successfully.\n",
      "-----\n"
     ]
    },
    {
     "name": "stderr",
     "output_type": "stream",
     "text": [
      " 89% 8/9 [07:56<00:58, 58.85s/it]"
     ]
    },
    {
     "name": "stdout",
     "output_type": "stream",
     "text": [
      "\n",
      "-----\n",
      "getCutout is processing...\n",
      "\n",
      "total time elapsed = 32.620 seconds (0.544 minutes)\n",
      "\n",
      "query completed successfully.\n",
      "-----\n",
      "\n",
      "-----\n",
      "getCutout is processing...\n",
      "\n",
      "total time elapsed = 9.638 seconds (0.161 minutes)\n",
      "\n",
      "query completed successfully.\n",
      "-----\n",
      "\n",
      "-----\n",
      "getCutout is processing...\n",
      "\n",
      "total time elapsed = 11.403 seconds (0.190 minutes)\n",
      "\n",
      "query completed successfully.\n",
      "-----\n"
     ]
    },
    {
     "name": "stderr",
     "output_type": "stream",
     "text": [
      "100% 9/9 [08:54<00:00, 59.42s/it]\n"
     ]
    },
    {
     "name": "stdout",
     "output_type": "stream",
     "text": [
      "\n",
      "📈 Thresholds computed from 85th percentile:\n",
      "{'vort': 0.19501825124025343, 'temp': 0.014994575642049313, 'pres': 0.0430082231760025}\n",
      "\n",
      "📦 Generating dataset with new labels...\n"
     ]
    },
    {
     "name": "stderr",
     "output_type": "stream",
     "text": [
      "  0% 0/9 [00:00<?, ?it/s]"
     ]
    },
    {
     "name": "stdout",
     "output_type": "stream",
     "text": [
      "\n",
      "-----\n",
      "getCutout is processing...\n",
      "\n",
      "total time elapsed = 21.558 seconds (0.359 minutes)\n",
      "\n",
      "query completed successfully.\n",
      "-----\n",
      "\n",
      "-----\n",
      "getCutout is processing...\n",
      "\n",
      "total time elapsed = 5.732 seconds (0.096 minutes)\n",
      "\n",
      "query completed successfully.\n",
      "-----\n",
      "\n",
      "-----\n",
      "getCutout is processing...\n",
      "\n",
      "total time elapsed = 4.873 seconds (0.081 minutes)\n",
      "\n",
      "query completed successfully.\n",
      "-----\n"
     ]
    },
    {
     "name": "stderr",
     "output_type": "stream",
     "text": [
      " 11% 1/9 [00:37<05:00, 37.56s/it]"
     ]
    },
    {
     "name": "stdout",
     "output_type": "stream",
     "text": [
      "\n",
      "-----\n",
      "getCutout is processing...\n",
      "\n",
      "total time elapsed = 25.970 seconds (0.433 minutes)\n",
      "\n",
      "query completed successfully.\n",
      "-----\n",
      "\n",
      "-----\n",
      "getCutout is processing...\n",
      "\n",
      "total time elapsed = 6.615 seconds (0.110 minutes)\n",
      "\n",
      "query completed successfully.\n",
      "-----\n",
      "\n",
      "-----\n",
      "getCutout is processing...\n",
      "\n",
      "total time elapsed = 6.213 seconds (0.104 minutes)\n",
      "\n",
      "query completed successfully.\n",
      "-----\n"
     ]
    },
    {
     "name": "stderr",
     "output_type": "stream",
     "text": [
      " 22% 2/9 [01:21<04:50, 41.53s/it]"
     ]
    },
    {
     "name": "stdout",
     "output_type": "stream",
     "text": [
      "\n",
      "-----\n",
      "getCutout is processing...\n",
      "\n",
      "total time elapsed = 25.496 seconds (0.425 minutes)\n",
      "\n",
      "query completed successfully.\n",
      "-----\n",
      "\n",
      "-----\n",
      "getCutout is processing...\n",
      "\n",
      "total time elapsed = 6.180 seconds (0.103 minutes)\n",
      "\n",
      "query completed successfully.\n",
      "-----\n",
      "\n",
      "-----\n",
      "getCutout is processing...\n",
      "\n",
      "total time elapsed = 5.847 seconds (0.097 minutes)\n",
      "\n",
      "query completed successfully.\n",
      "-----\n"
     ]
    },
    {
     "name": "stderr",
     "output_type": "stream",
     "text": [
      " 33% 3/9 [02:04<04:12, 42.08s/it]"
     ]
    },
    {
     "name": "stdout",
     "output_type": "stream",
     "text": [
      "\n",
      "-----\n",
      "getCutout is processing...\n",
      "\n",
      "total time elapsed = 27.130 seconds (0.452 minutes)\n",
      "\n",
      "query completed successfully.\n",
      "-----\n",
      "\n",
      "-----\n",
      "getCutout is processing...\n",
      "\n",
      "total time elapsed = 12.171 seconds (0.203 minutes)\n",
      "\n",
      "query completed successfully.\n",
      "-----\n",
      "\n",
      "-----\n",
      "getCutout is processing...\n",
      "\n",
      "total time elapsed = 6.373 seconds (0.106 minutes)\n",
      "\n",
      "query completed successfully.\n",
      "-----\n"
     ]
    },
    {
     "name": "stderr",
     "output_type": "stream",
     "text": [
      " 44% 4/9 [02:56<03:49, 45.81s/it]"
     ]
    },
    {
     "name": "stdout",
     "output_type": "stream",
     "text": [
      "\n",
      "-----\n",
      "getCutout is processing...\n",
      "\n",
      "total time elapsed = 29.631 seconds (0.494 minutes)\n",
      "\n",
      "query completed successfully.\n",
      "-----\n",
      "\n",
      "-----\n",
      "getCutout is processing...\n",
      "\n",
      "total time elapsed = 5.784 seconds (0.096 minutes)\n",
      "\n",
      "query completed successfully.\n",
      "-----\n",
      "\n",
      "-----\n",
      "getCutout is processing...\n",
      "\n",
      "total time elapsed = 5.539 seconds (0.092 minutes)\n",
      "\n",
      "query completed successfully.\n",
      "-----\n"
     ]
    },
    {
     "name": "stderr",
     "output_type": "stream",
     "text": [
      " 56% 5/9 [03:42<03:03, 45.89s/it]"
     ]
    },
    {
     "name": "stdout",
     "output_type": "stream",
     "text": [
      "\n",
      "-----\n",
      "getCutout is processing...\n",
      "\n",
      "total time elapsed = 23.422 seconds (0.390 minutes)\n",
      "\n",
      "query completed successfully.\n",
      "-----\n",
      "\n",
      "-----\n",
      "getCutout is processing...\n",
      "\n",
      "total time elapsed = 5.481 seconds (0.091 minutes)\n",
      "\n",
      "query completed successfully.\n",
      "-----\n",
      "\n",
      "-----\n",
      "getCutout is processing...\n",
      "\n",
      "total time elapsed = 5.097 seconds (0.085 minutes)\n",
      "\n",
      "query completed successfully.\n",
      "-----\n"
     ]
    },
    {
     "name": "stderr",
     "output_type": "stream",
     "text": [
      " 67% 6/9 [04:21<02:10, 43.61s/it]"
     ]
    },
    {
     "name": "stdout",
     "output_type": "stream",
     "text": [
      "\n",
      "-----\n",
      "getCutout is processing...\n",
      "\n",
      "total time elapsed = 24.167 seconds (0.403 minutes)\n",
      "\n",
      "query completed successfully.\n",
      "-----\n",
      "\n",
      "-----\n",
      "getCutout is processing...\n",
      "\n",
      "total time elapsed = 4.325 seconds (0.072 minutes)\n",
      "\n",
      "query completed successfully.\n",
      "-----\n",
      "\n",
      "-----\n",
      "getCutout is processing...\n",
      "\n",
      "total time elapsed = 4.368 seconds (0.073 minutes)\n",
      "\n",
      "query completed successfully.\n",
      "-----\n"
     ]
    },
    {
     "name": "stderr",
     "output_type": "stream",
     "text": [
      " 78% 7/9 [04:59<01:23, 41.83s/it]"
     ]
    },
    {
     "name": "stdout",
     "output_type": "stream",
     "text": [
      "\n",
      "-----\n",
      "getCutout is processing...\n",
      "\n",
      "total time elapsed = 17.741 seconds (0.296 minutes)\n",
      "\n",
      "query completed successfully.\n",
      "-----\n",
      "\n",
      "-----\n",
      "getCutout is processing...\n",
      "\n",
      "total time elapsed = 3.967 seconds (0.066 minutes)\n",
      "\n",
      "query completed successfully.\n",
      "-----\n",
      "\n",
      "-----\n",
      "getCutout is processing...\n",
      "\n",
      "total time elapsed = 3.948 seconds (0.066 minutes)\n",
      "\n",
      "query completed successfully.\n",
      "-----\n"
     ]
    },
    {
     "name": "stderr",
     "output_type": "stream",
     "text": [
      " 89% 8/9 [05:30<00:38, 38.33s/it]"
     ]
    },
    {
     "name": "stdout",
     "output_type": "stream",
     "text": [
      "\n",
      "-----\n",
      "getCutout is processing...\n",
      "\n",
      "total time elapsed = 12.686 seconds (0.211 minutes)\n",
      "\n",
      "query completed successfully.\n",
      "-----\n",
      "\n",
      "-----\n",
      "getCutout is processing...\n",
      "\n",
      "total time elapsed = 2.941 seconds (0.049 minutes)\n",
      "\n",
      "query completed successfully.\n",
      "-----\n",
      "\n",
      "-----\n",
      "getCutout is processing...\n",
      "\n",
      "total time elapsed = 3.068 seconds (0.051 minutes)\n",
      "\n",
      "query completed successfully.\n",
      "-----\n"
     ]
    },
    {
     "name": "stderr",
     "output_type": "stream",
     "text": [
      "100% 9/9 [05:54<00:00, 39.35s/it]\n"
     ]
    },
    {
     "name": "stdout",
     "output_type": "stream",
     "text": [
      "\n",
      "✅ Saved dataset to 'turbulence_dataset_sabl2048high_composite_label.pt'\n",
      "Total samples: 36864 | 🌪️ Turbulence: 11268 | 🛫 Non-turbulence: 25596\n"
     ]
    }
   ],
   "source": [
    "import numpy as np\n",
    "import torch\n",
    "import os\n",
    "from tqdm import tqdm\n",
    "\n",
    "# -------------------------------\n",
    "# Configuration\n",
    "# -------------------------------\n",
    "patch_size = 32\n",
    "stride = 32\n",
    "timesteps = list(range(1, 10))\n",
    "\n",
    "X, y = [], []\n",
    "\n",
    "# -------------------------------\n",
    "# Step 1: First Pass - Collect StdDev stats\n",
    "# -------------------------------\n",
    "std_vort_list, std_Tgrad_list, std_Pgrad_list = [], [], []\n",
    "\n",
    "def compute_vorticity_2d(patch_v):\n",
    "    u = patch_v[..., 0]\n",
    "    v = patch_v[..., 1]\n",
    "    dv_dx = np.gradient(v, axis=1)\n",
    "    du_dy = np.gradient(u, axis=0)\n",
    "    return dv_dx - du_dy\n",
    "\n",
    "def compute_grad_magnitude(field):\n",
    "    dx = np.gradient(field, axis=1)\n",
    "    dy = np.gradient(field, axis=0)\n",
    "    return np.sqrt(dx**2 + dy**2)\n",
    "\n",
    "def compute_composite_metrics(patch_v, patch_T, patch_p):\n",
    "    vort = compute_vorticity_2d(patch_v)\n",
    "    grad_T = compute_grad_magnitude(patch_T)\n",
    "    grad_P = compute_grad_magnitude(patch_p)\n",
    "    return np.std(vort), np.std(grad_T), np.std(grad_P)\n",
    "\n",
    "print(\"🔍 Collecting statistics for thresholding...\")\n",
    "\n",
    "for t in tqdm(timesteps):\n",
    "    try:\n",
    "        axes_ranges = np.array([[0, 2047], [0, 2047], [16, 16]], dtype=np.int32)\n",
    "        strides_arr = np.array([1, 1, 1], dtype=np.int32)\n",
    "\n",
    "        velocity_data = getCutout(dataset, 'velocity', t, axes_ranges, strides_arr)\n",
    "        temperature_data = getCutout(dataset, 'temperature', t, axes_ranges, strides_arr)\n",
    "        pressure_data = getCutout(dataset, 'pressure', t, axes_ranges, strides_arr)\n",
    "\n",
    "        velocity = np.squeeze(velocity_data[f'velocity_{t:04d}'].values)\n",
    "        temperature = np.squeeze(temperature_data[f'temperature_{t:04d}'].values)\n",
    "        pressure = np.squeeze(pressure_data[f'pressure_{t:04d}'].values)\n",
    "\n",
    "        for i in range(0, 2048 - patch_size + 1, stride):\n",
    "            for j in range(0, 2048 - patch_size + 1, stride):\n",
    "                v_patch = velocity[i:i+patch_size, j:j+patch_size, :]\n",
    "                T_patch = temperature[i:i+patch_size, j:j+patch_size]\n",
    "                p_patch = pressure[i:i+patch_size, j:j+patch_size]\n",
    "\n",
    "                std_vort, std_T, std_P = compute_composite_metrics(v_patch, T_patch, p_patch)\n",
    "                std_vort_list.append(std_vort)\n",
    "                std_Tgrad_list.append(std_T)\n",
    "                std_Pgrad_list.append(std_P)\n",
    "\n",
    "    except Exception as e:\n",
    "        print(f\"❌ Failed for timestep {t}: {e}\")\n",
    "\n",
    "# -------------------------------\n",
    "# Step 2: Compute thresholds\n",
    "# -------------------------------\n",
    "thresholds = {\n",
    "    'vort': np.percentile(std_vort_list, 85),\n",
    "    'temp': np.percentile(std_Tgrad_list, 85),\n",
    "    'pres': np.percentile(std_Pgrad_list, 85),\n",
    "}\n",
    "\n",
    "print(\"\\n📈 Thresholds computed from 85th percentile:\")\n",
    "print(thresholds)\n",
    "\n",
    "# -------------------------------\n",
    "# Step 3: Second Pass - Create dataset\n",
    "# -------------------------------\n",
    "X, y = [], []\n",
    "print(\"\\n📦 Generating dataset with new labels...\")\n",
    "\n",
    "def label_patch_composite(std_vort, std_T, std_P, thresholds):\n",
    "    return int(std_vort > thresholds['vort'] or std_T > thresholds['temp'] or std_P > thresholds['pres'])\n",
    "\n",
    "for t in tqdm(timesteps):\n",
    "    try:\n",
    "        axes_ranges = np.array([[0, 2047], [0, 2047], [16, 16]], dtype=np.int32)\n",
    "        strides_arr = np.array([1, 1, 1], dtype=np.int32)\n",
    "\n",
    "        velocity_data = getCutout(dataset, 'velocity', t, axes_ranges, strides_arr)\n",
    "        temperature_data = getCutout(dataset, 'temperature', t, axes_ranges, strides_arr)\n",
    "        pressure_data = getCutout(dataset, 'pressure', t, axes_ranges, strides_arr)\n",
    "\n",
    "        velocity = np.squeeze(velocity_data[f'velocity_{t:04d}'].values)\n",
    "        temperature = np.squeeze(temperature_data[f'temperature_{t:04d}'].values)\n",
    "        pressure = np.squeeze(pressure_data[f'pressure_{t:04d}'].values)\n",
    "\n",
    "        for i in range(0, 2048 - patch_size + 1, stride):\n",
    "            for j in range(0, 2048 - patch_size + 1, stride):\n",
    "                v_patch = velocity[i:i+patch_size, j:j+patch_size, :]\n",
    "                T_patch = temperature[i:i+patch_size, j:j+patch_size]\n",
    "                p_patch = pressure[i:i+patch_size, j:j+patch_size]\n",
    "\n",
    "                std_vort, std_T, std_P = compute_composite_metrics(v_patch, T_patch, p_patch)\n",
    "                label = label_patch_composite(std_vort, std_T, std_P, thresholds)\n",
    "\n",
    "                input_tensor = np.stack([\n",
    "                    v_patch[..., 0],\n",
    "                    v_patch[..., 1],\n",
    "                    T_patch\n",
    "                ], axis=0)\n",
    "\n",
    "                X.append(input_tensor)\n",
    "                y.append(label)\n",
    "\n",
    "    except Exception as e:\n",
    "        print(f\"❌ Failed for timestep {t}: {e}\")\n",
    "\n",
    "# -------------------------------\n",
    "# Step 4: Save Dataset\n",
    "# -------------------------------\n",
    "X_tensor = torch.tensor(np.array(X), dtype=torch.float32)\n",
    "y_tensor = torch.tensor(np.array(y), dtype=torch.long)\n",
    "\n",
    "dataset_dict = {'X': X_tensor, 'y': y_tensor}\n",
    "save_path = 'turbulence_dataset_sabl2048high_composite_label.pt'\n",
    "torch.save(dataset_dict, save_path)\n",
    "\n",
    "print(f\"\\n✅ Saved dataset to '{save_path}'\")\n",
    "print(f\"Total samples: {len(y_tensor)} | 🌪️ Turbulence: {y_tensor.sum().item()} | 🛫 Non-turbulence: {(y_tensor == 0).sum().item()}\")\n"
   ]
  },
  {
   "cell_type": "code",
   "execution_count": null,
   "id": "2c8debe5-3a2f-48b6-a1e0-8c2063958ffd",
   "metadata": {},
   "outputs": [],
   "source": []
  }
 ],
 "metadata": {
  "kernelspec": {
   "display_name": "Python 3.9 (py39)",
   "language": "python",
   "name": "py39"
  },
  "language_info": {
   "codemirror_mode": {
    "name": "ipython",
    "version": 3
   },
   "file_extension": ".py",
   "mimetype": "text/x-python",
   "name": "python",
   "nbconvert_exporter": "python",
   "pygments_lexer": "ipython3",
   "version": "3.9.13"
  }
 },
 "nbformat": 4,
 "nbformat_minor": 5
}
